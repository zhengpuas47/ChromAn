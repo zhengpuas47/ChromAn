{
 "cells": [
  {
   "cell_type": "code",
   "execution_count": 6,
   "id": "e4c3a3c4",
   "metadata": {},
   "outputs": [],
   "source": [
    "import os, sys\n",
    "sys.path.append(r'..\\..\\..')\n",
    "import ChromAn"
   ]
  },
  {
   "cell_type": "code",
   "execution_count": 7,
   "id": "e7d7afc0",
   "metadata": {},
   "outputs": [],
   "source": [
    "from ChromAn.src import spot_tools"
   ]
  },
  {
   "cell_type": "code",
   "execution_count": null,
   "id": "04970ab6",
   "metadata": {},
   "outputs": [],
   "source": []
  }
 ],
 "metadata": {
  "kernelspec": {
   "display_name": "postanalysis",
   "language": "python",
   "name": "postanalysis"
  },
  "language_info": {
   "codemirror_mode": {
    "name": "ipython",
    "version": 3
   },
   "file_extension": ".py",
   "mimetype": "text/x-python",
   "name": "python",
   "nbconvert_exporter": "python",
   "pygments_lexer": "ipython3",
   "version": "3.10.10"
  }
 },
 "nbformat": 4,
 "nbformat_minor": 5
}
